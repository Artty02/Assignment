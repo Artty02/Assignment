{
  "nbformat": 4,
  "nbformat_minor": 0,
  "metadata": {
    "colab": {
      "provenance": [],
      "authorship_tag": "ABX9TyPwwgIqUwOJilJ8YytKheW4",
      "include_colab_link": true
    },
    "kernelspec": {
      "name": "python3",
      "display_name": "Python 3"
    },
    "language_info": {
      "name": "python"
    }
  },
  "cells": [
    {
      "cell_type": "markdown",
      "metadata": {
        "id": "view-in-github",
        "colab_type": "text"
      },
      "source": [
        "<a href=\"https://colab.research.google.com/github/Artty02/Assignment/blob/main/Jang.ipynb\" target=\"_parent\"><img src=\"https://colab.research.google.com/assets/colab-badge.svg\" alt=\"Open In Colab\"/></a>"
      ]
    },
    {
      "source": [
        "import pandas as pd\n",
        "\n",
        "# อ่านข้อมูลจากไฟล์ Excel\n",
        "df = pd.read_excel('Copy of Test working day.xlsx') # เปลี่ยนชื่อไฟร์ได้\n",
        "\n",
        "# สร้าง column ใหม่ชื่อ 'add' และ 'delete' ใน DataFrame\n",
        "df['add'] = ''\n",
        "df['delete'] = ''\n",
        "\n",
        "# วนลูปในแต่ละแถวของ DataFrame\n",
        "for index, row in df.iterrows():\n",
        "    # แยกตัวเลขใน column 'C' และ 'D'\n",
        "    c_digits = list(str(row['New']))\n",
        "    d_digits = list(str(row['Old']))\n",
        "\n",
        "    # หาตัวเลขที่อยู่ใน 'C' แต่ไม่อยู่ใน 'D' (add)\n",
        "    added_digits = sorted(list(set(c_digits) - set(d_digits)))\n",
        "    added_digits_str = ''.join(added_digits)\n",
        "    df.loc[index, 'add'] = added_digits_str\n",
        "\n",
        "    # หาตัวเลขที่อยู่ใน 'D' แต่ไม่อยู่ใน 'C' (delete)\n",
        "    deleted_digits = sorted(list(set(d_digits) - set(c_digits)))\n",
        "    deleted_digits_str = ''.join(deleted_digits)\n",
        "    df.loc[index, 'delete'] = deleted_digits_str\n",
        "\n",
        "# บันทึก DataFrame ที่อัปเดตลงในไฟล์ Excel ใหม่\n",
        "df.to_excel('updated_excel_file.xlsx', index=False)"
      ],
      "cell_type": "code",
      "metadata": {
        "id": "aW9HZGEaDSkp"
      },
      "execution_count": null,
      "outputs": []
    },
    {
      "cell_type": "code",
      "source": [
        "from datetime import date, timedelta\n",
        "\n",
        "def get_days_after_startdate(month, year, startdate_str, days_of_week):\n",
        "    \"\"\"\n",
        "    ฟังก์ชันนี้จะคืนรายการวันทั้งหมดในเดือนที่ระบุในปีที่ระบุ\n",
        "    หลังจากวันที่เริ่มต้น (startdate) พร้อมกับแสดงวันในสัปดาห์\n",
        "    และแสดงเฉพาะวันที่อยู่ในรายการเลขที่กำหนด\n",
        "\n",
        "    Args:\n",
        "      month (int): เดือน (1-12)\n",
        "      year (int): ปี\n",
        "      startdate_str (str): วันที่เริ่มต้นในรูปแบบ dd-mm-yyyy\n",
        "      days_of_week (list): รายการเลขวันในสัปดาห์ (1-7)\n",
        "\n",
        "    Returns:\n",
        "      list: รายการวันหลังจาก startdate พร้อมกับวันในสัปดาห์\n",
        "    \"\"\"\n",
        "\n",
        "    days_in_week = {\n",
        "        1: \"วันจันทร์\",\n",
        "        2: \"วันอังคาร\",\n",
        "        3: \"วันพุธ\",\n",
        "        4: \"วันพฤหัสบดี\",\n",
        "        5: \"วันศุกร์\",\n",
        "        6: \"วันเสาร์\",\n",
        "        7: \"วันอาทิตย์\"\n",
        "    }\n",
        "\n",
        "    # กำหนดวันแรกและวันสุดท้ายของเดือน\n",
        "    first_day_of_month = date(year, month, 1)\n",
        "    last_day_of_month = (first_day_of_month + timedelta(days=32)).replace(day=1) - timedelta(days=1)\n",
        "\n",
        "    # แปลง startdate_str เป็นวัตถุ date\n",
        "    day, month_str, year_str = startdate_str.split('-')\n",
        "    startdate = date(int(year_str), int(month_str), int(day))\n",
        "\n",
        "    days_in_month = []\n",
        "    current_day = first_day_of_month\n",
        "    while current_day <= last_day_of_month:\n",
        "        if current_day >= startdate:\n",
        "            day_of_week = current_day.isoweekday()  # ไม่ต้องแปลงเพิ่ม ค่า 1-7 ถูกต้องแล้ว\n",
        "            if day_of_week in days_of_week:  # ตรวจสอบว่าวันในสัปดาห์อยู่ในรายการที่ผู้ใช้ระบุ\n",
        "                day_name = days_in_week[day_of_week]  # ดึงชื่อวันจาก dictionary\n",
        "                formatted_date = current_day.strftime(\"%d-%m-%Y\")  # จัดรูปแบบวันที่เป็น dd-mm-yyyy\n",
        "                days_in_month.append((formatted_date, day_name))\n",
        "        current_day += timedelta(days=1)\n",
        "\n",
        "    return days_in_month\n",
        "\n",
        "# ตัวอย่างการใช้งาน\n",
        "month = int(input(\"กรุณาป้อนเดือน (1-12): \"))\n",
        "year = int(input(\"กรุณาป้อนปี: \"))\n",
        "startdate_str = input(\"กรุณาป้อนวันที่เริ่มต้น (dd-mm-yyyy): \")\n",
        "days_of_week_str = input(\"กรุณาป้อนเลขวันในสัปดาห์ (คั่นด้วยเครื่องหมายจุลภาค): \")\n",
        "days_of_week = [int(x.strip()) for x in days_of_week_str.split(',')]\n",
        "\n",
        "days = get_days_after_startdate(month, year, startdate_str, days_of_week)\n",
        "for day, day_name in days:\n",
        "    print(f\"{day} ({day_name})\")"
      ],
      "metadata": {
        "colab": {
          "base_uri": "https://localhost:8080/"
        },
        "id": "mZfa-573GgRD",
        "outputId": "5f83aaa7-8540-4fc2-e944-c3cf3f8892e9"
      },
      "execution_count": null,
      "outputs": [
        {
          "output_type": "execute_result",
          "data": {
            "text/plain": [
              "['1', '2', '3', '4', '5', '6', '7']"
            ]
          },
          "metadata": {},
          "execution_count": 5
        }
      ]
    }
  ]
}