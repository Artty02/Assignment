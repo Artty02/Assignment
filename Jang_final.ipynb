{
  "nbformat": 4,
  "nbformat_minor": 0,
  "metadata": {
    "colab": {
      "provenance": [],
      "authorship_tag": "ABX9TyN8pymiPQZ92CN11hH+1iFE",
      "include_colab_link": true
    },
    "kernelspec": {
      "name": "python3",
      "display_name": "Python 3"
    },
    "language_info": {
      "name": "python"
    }
  },
  "cells": [
    {
      "cell_type": "markdown",
      "metadata": {
        "id": "view-in-github",
        "colab_type": "text"
      },
      "source": [
        "<a href=\"https://colab.research.google.com/github/Artty02/Assignment/blob/main/Jang_final.ipynb\" target=\"_parent\"><img src=\"https://colab.research.google.com/assets/colab-badge.svg\" alt=\"Open In Colab\"/></a>"
      ]
    },
    {
      "cell_type": "code",
      "source": [
        "import pandas as pd\n",
        "from datetime import date, timedelta\n",
        "\n",
        "def get_days_after_startdate(month, year, startdate, days_of_week):\n",
        "    \"\"\"\n",
        "    ฟังก์ชันนี้จะคืนรายการวันทั้งหมดในเดือนที่ระบุในปีที่ระบุ\n",
        "    หลังจากวันที่เริ่มต้น (startdate) และแสดงเฉพาะวันที่อยู่ในรายการเลขที่กำหนด\n",
        "\n",
        "    Args:\n",
        "      month (int): เดือน (1-12)\n",
        "      year (int): ปี\n",
        "      startdate (date): วันที่เริ่มต้น (ไม่นับวันนี้)\n",
        "      days_of_week (list): รายการเลขวันในสัปดาห์ (1-7)\n",
        "\n",
        "    Returns:\n",
        "      list: รายการวันหลังจาก startdate ที่ตรงกับ days_of_week\n",
        "    \"\"\"\n",
        "\n",
        "    first_day_of_month = date(year, month, 1)\n",
        "    last_day_of_month = (first_day_of_month + timedelta(days=32)).replace(day=1) - timedelta(days=1)\n",
        "\n",
        "    days_in_month = []\n",
        "    current_day = first_day_of_month\n",
        "    while current_day <= last_day_of_month:\n",
        "        if current_day > startdate:  # ปรับเงื่อนไขเพื่อไม่นับวันที่เริ่มต้น\n",
        "            day_of_week = current_day.isoweekday()  # คืนค่าเลขวันในสัปดาห์ตามที่กำหนด\n",
        "            if day_of_week in days_of_week:\n",
        "                days_in_month.append(current_day)  # บันทึกแค่วันที่\n",
        "        current_day += timedelta(days=1)\n",
        "\n",
        "    return days_in_month\n",
        "\n",
        "# รับ input เดือน และ ปี จากผู้ใช้\n",
        "month = int(input(\"กรุณาป้อนเดือน (1-12): \"))\n",
        "year = int(input(\"กรุณาป้อนปี: \"))\n",
        "\n",
        "# อ่านไฟล์ Excel\n",
        "df = pd.read_excel('Test working day.xlsx')\n",
        "\n",
        "# สร้าง column ใหม่ 'add', 'delete', และ 'Genarate working day'\n",
        "df['add'] = ''\n",
        "df['delete'] = ''\n",
        "df['Genarate working day'] = ''\n",
        "\n",
        "# วนลูปในแต่ละแถวของ DataFrame\n",
        "for index, row in df.iterrows():\n",
        "    # ดึงวันที่เริ่มต้นจากคอลัมน์ A และแปลงเป็นวันที่\n",
        "    startdate = pd.to_datetime(row['路由计划生效日期 eff.date']).date()\n",
        "\n",
        "    # ดึง days_of_week จากคอลัมน์ C (ควรเป็น string ที่มีตัวเลขเช่น \"135\" -> [1, 3, 5])\n",
        "    days_of_week_str = str(row['班期working day'])\n",
        "    days_of_week = [int(x) for x in days_of_week_str if x.isdigit()]  # แยกเป็นตัวเลขแต่ละตัว\n",
        "\n",
        "    # เรียกใช้ฟังก์ชัน get_days_after_startdate เพื่อสร้างวันที่ที่ทำงานในเดือนและปีที่ระบุ\n",
        "    days = get_days_after_startdate(month, year, startdate, days_of_week)\n",
        "\n",
        "    # จัดรูปแบบผลลัพธ์และบันทึกลงในคอลัมน์ 'Genarate working day'\n",
        "    generated_days_str = ', '.join([day.strftime('%Y-%m-%d') for day in days])  # แสดงแค่วันที่\n",
        "    df.loc[index, 'Genarate working day'] = generated_days_str\n",
        "\n",
        "    # แยกตัวเลขใน column 'C' และ 'D' เพื่อคำนวณ 'add' และ 'delete'\n",
        "    c_digits = list(str(row['班期working day']))\n",
        "    d_digits = list(str(row['Old working day']))\n",
        "\n",
        "    # หาตัวเลขที่อยู่ใน 'C' แต่ไม่อยู่ใน 'D' (add)\n",
        "    added_digits = sorted(list(set(c_digits) - set(d_digits)))\n",
        "    added_digits_str = ''.join(added_digits)\n",
        "    df.loc[index, 'add'] = added_digits_str\n",
        "\n",
        "    # หาตัวเลขที่อยู่ใน 'D' แต่ไม่อยู่ใน 'C' (delete)\n",
        "    deleted_digits = sorted(list(set(d_digits) - set(c_digits)))\n",
        "    deleted_digits_str = ''.join(deleted_digits)\n",
        "    df.loc[index, 'delete'] = deleted_digits_str\n",
        "\n",
        "# บันทึก DataFrame ที่อัปเดตลงในไฟล์ Excel ใหม่\n",
        "df.to_excel('ติเองมั่ว.xlsx', index=False)\n"
      ],
      "metadata": {
        "colab": {
          "base_uri": "https://localhost:8080/"
        },
        "id": "WYmd6FT8RRgo",
        "outputId": "42504532-65e2-4edf-d46c-983855158c22"
      },
      "execution_count": 14,
      "outputs": [
        {
          "name": "stdout",
          "output_type": "stream",
          "text": [
            "กรุณาป้อนเดือน (1-12): 9\n",
            "กรุณาป้อนปี: 2024\n"
          ]
        }
      ]
    }
  ]
}